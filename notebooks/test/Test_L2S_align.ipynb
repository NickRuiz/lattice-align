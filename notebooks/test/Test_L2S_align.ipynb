{
 "metadata": {
  "name": "",
  "signature": "sha256:ca0afa845a47a5f957334d5190c7cd1a07708859d425558ed216ca463274ca64"
 },
 "nbformat": 3,
 "nbformat_minor": 0,
 "worksheets": [
  {
   "cells": [
    {
     "cell_type": "code",
     "collapsed": false,
     "input": [
      "import fst\n",
      "import graphviz\n",
      "%load_ext autoreload\n",
      "%autoreload 2\n",
      "import sys\n",
      "sys.path.append(\"../../\")\n",
      "from lattice_ibm import LatticeToStringWordAligner"
     ],
     "language": "python",
     "metadata": {},
     "outputs": [
      {
       "output_type": "stream",
       "stream": "stdout",
       "text": [
        "The autoreload extension is already loaded. To reload it, use:\n",
        "  %reload_ext autoreload\n"
       ]
      }
     ],
     "prompt_number": 5
    },
    {
     "cell_type": "code",
     "collapsed": false,
     "input": [
      "src_file = \"../../data/europarl.50k.fin\"\n",
      "tgt_file = \"../../data/europarl.50k.eng\"\n",
      "src_lang = \"fi\"\n",
      "tgt_lang = \"en\"\n",
      "\n",
      "src_lines = []\n",
      "tgt_lines = []\n",
      "\n",
      "with open(src_file, 'r') as f_src:\n",
      "    with open(tgt_file, 'r') as f_tgt:\n",
      "        for i in range(0, 10):\n",
      "            src_lines.append(f_src.readline())\n",
      "            tgt_lines.append(f_tgt.readline())\n",
      "            \n",
      "print src_lines\n",
      "print tgt_lines"
     ],
     "language": "python",
     "metadata": {},
     "outputs": [
      {
       "output_type": "stream",
       "stream": "stdout",
       "text": [
        "['Istuntokauden|istunto+kaude>n uudelleenavaaminen|uudelleen+avaaminen\\n', ' Julistan|julista>n perjantaina|perjanta>i>na|perjantai>na joulukuun|joulu+kuu>n 17.|17. p\\xc3\\xa4iv\\xc3\\xa4n\\xc3\\xa4|p\\xc3\\xa4iv\\xc3\\xa4>n\\xc3\\xa4 keskeytetyn|keskeytet>y>n|keskeytety>n Euroopan|Euroopa>n parlamentin|parlamenti>n istunnon|istunno>n avatuksi|avatu>ksi|avat>u>ksi ja|ja esit\\xc3\\xa4n|esit\\xc3\\xa4>n viel\\xc3\\xa4|viel\\xc3\\xa4 kerran|kerra>n|kerran vilpitt\\xc3\\xb6m\\xc3\\xa4n|vilpitt\\xc3\\xb6m\\xc3\\xa4>n toiveeni|toivee>ni siit\\xc3\\xa4|sii>t\\xc3\\xa4|siit\\xc3\\xa4|siit>\\xc3\\xa4 ,|, ett\\xc3\\xa4|ett\\xc3\\xa4 teill\\xc3\\xa4|te>i>ll\\xc3\\xa4 olisi|ol>isi ollut|ollut|ol>lu>t|ollu>t oikein|oike>i>n|oikein|oike>in mukava|mukava joululoma|joulu+loma .|.\\n', ' Kuten|kuten olette|ole>tte varmaan|varma>an|varmaan saattaneet|saatta>nee>t huomata|huomat>a|huoma>ta ,|, vuodenvaihteeseen|vuoden+vaihtee>seen|vuode>n+vaihtee>seen 2000|2000 povattuja|povat>tu>j>a suuria|suur>i>a tietokoneongelmia|tieto+kone+ongelm>i>a ei|ei ilmennytk\\xc3\\xa4\\xc3\\xa4n|.Sen|ilmen>nyt>k\\xc3\\xa4\\xc3\\xa4n|ilmenny>t>k\\xc3\\xa4\\xc3\\xa4n|ilmen>nyt>k\\xc3\\xa4\\xc3\\xa4n. sijaan|sen sijaan| todella|todella|tode>lla kauheat|kauhea>t luonnonkatastrofit|luonno>n+katastrofi>t koettelivat|koettel>i>vat kansalaisia|kansa+lais>i>a joissakin|joissakin|jo>i>ssa>kin unionimme|unioni>mme maissa|maissa|ma>i>ssa .|.\\n', ' Te|te olette|ole>tte esitt\\xc3\\xa4neet|esitt\\xc3\\xa4>nee>t toiveen|toivee>n ,|, ett\\xc3\\xa4|ett\\xc3\\xa4 t\\xc3\\xa4st\\xc3\\xa4|t\\xc3\\xa4st\\xc3\\xa4|t\\xc3\\xa4>st\\xc3\\xa4 asiasta|asia>sta keskusteltaisiin|keskustel>ta>isiin l\\xc3\\xa4hip\\xc3\\xa4ivin\\xc3\\xa4|l\\xc3\\xa4hi+p\\xc3\\xa4iv>i>n\\xc3\\xa4 t\\xc3\\xa4m\\xc3\\xa4n|t\\xc3\\xa4m\\xc3\\xa4>n istuntojakson|istunto+jakso>n aikana|aika>na|aikana .|.\\n', ' Sill\\xc3\\xa4| v\\xc3\\xa4lin|sill\\xc3\\xa4 v\\xc3\\xa4lin| toivoisin|toivo+isi>n|toivo>isi>n|toivo+is>i>n ,|, kuten|kuten useampi|usea>mpi|useampi kollega|kollega on|on minulle|minu>lle esitt\\xc3\\xa4nytkin|esitt\\xc3\\xa4>nyt>kin ,|, ett\\xc3\\xa4|ett\\xc3\\xa4 viett\\xc3\\xa4isimme|viett\\xc3\\xa4>isi>mme minuutin|minuuti>n hiljaisuuden|hiljaisuude>n kaikkien|kaikk>i>en niiden|ni>i>den|niide>n uhrien|uhr>i>en muistoksi|muisto>ksi ,|, jotka|jotka saivat|sa>i>vat surmansa|surma>nsa useita|use>i>ta Euroopan| unionin|Euroopan unioni>n| maita|maita|ma>i>ta koetelleissa|koetel>le>i>ssa myrskyiss\\xc3\\xa4|myrsky>i>ss\\xc3\\xa4 .|.\\n', ' Kehotan|kehota>n ,|, ett\\xc3\\xa4|ett\\xc3\\xa4 nousette|nouse>tte seisomaan|seisoma>an|sei+soma>an|seiso>ma>an t\\xc3\\xa4m\\xc3\\xa4n|t\\xc3\\xa4m\\xc3\\xa4>n minuutin|minuuti>n hiljaisuuden|hiljaisuude>n ajaksi|ajaksi|aja>ksi\\n', ' (|( Parlamentti|parlamentti vietti|vietti|viett>i seisaallaan|seisaalla>an minuutin|minuuti>n hiljaisuuden|hiljaisuude>n .|. )|)\\n', ' Arvoisa|arvoisa puhemies|puhe+mies ,|, k\\xc3\\xa4yt\\xc3\\xa4n|k\\xc3\\xa4yt\\xc3\\xa4>n ty\\xc3\\xb6j\\xc3\\xa4rjestyspuheenvuoron|ty\\xc3\\xb6j\\xc3\\xa4rjestys+puheenvuoro>n|ty\\xc3\\xb6j\\xc3\\xa4rjestys+puheen+vuoro>n|ty\\xc3\\xb6+j\\xc3\\xa4rjestys+puhee>n+vuo+ron|ty\\xc3\\xb6j\\xc3\\xa4rjestys+puhee>n+vuoro>n|ty\\xc3\\xb6j\\xc3\\xa4rjestys+puhee>n+vuo+ron|ty\\xc3\\xb6+j\\xc3\\xa4rjestys+puheen+vuoro>n|ty\\xc3\\xb6+j\\xc3\\xa4rjestys+puhee>n+vuoro>n .|.\\n', ' Olette|ole>tte varmaan|varma>an|varmaan saaneet|saa>nee>t tietoonne|tieto>o>nne lehdist\\xc3\\xb6n|lehdist\\xc3\\xb6>n ja|ja television|tele+visio>n kautta|kautta|kaut>ta ,|, ett\\xc3\\xa4|ett\\xc3\\xa4 Sri| Lankassa|Sri Lanka>ssa| on|on sattunut|sattu>nut|sattu>nu>t useita|use>i>ta kuolemaan|kuolema>an|kuole>ma>an johtaneita|johta>ne>i>ta pommi-iskuja|pommi-isku>j>a|pommi+isku>j>a .|.\\n', ' N\\xc3\\xa4iden|n\\xc3\\xa4>i>den Sri| Lankassa|Sri Lanka>ssa| aivan|aivan \\xc3\\xa4skett\\xc3\\xa4in|\\xc3\\xa4skett\\xc3\\xa4in surmansa|surma>nsa saaneiden|saa>ne>i>den ihmisten|ihmis>ten joukossa|joukossa|jouko>ssa on|on Kumar|Kumar Ponnambalam|*Ponnambalam ,|, joka|joka vieraili|vierail>i parlamentissa|parlamenti>ssa vain|vain|va>i>n|vai>n pari|pari kuukautta|kuu+kaut>ta sitten|sitten .|.\\n']\n",
        "['Resumption of the session\\n', 'I declare resumed the session of the European Parliament adjourned on Friday 17 December 1999 , and I would like once again to wish you a happy new year in the hope that you enjoyed a pleasant festive period .\\n', 'Although , as you will have seen , the dreaded &apos; millennium bug &apos; failed to materialise , still the people in a number of countries suffered a series of natural disasters that truly were dreadful .\\n', 'You have requested a debate on this subject in the course of the next few days , during this part-session .\\n', 'In the meantime , I should like to observe a minute &apos; s silence , as a number of Members have requested , on behalf of all the victims concerned , particularly those of the terrible storms , in the various countries of the European Union .\\n', 'Please rise , then , for this minute &apos; s silence .\\n', '( The House rose and observed a minute &apos; s silence )\\n', 'Madam President , on a point of order .\\n', 'You will be aware from the press and television that there have been a number of bomb explosions and killings in Sri Lanka .\\n', 'One of the people assassinated very recently in Sri Lanka was Mr Kumar Ponnambalam , who had visited the European Parliament just a few months ago .\\n']\n"
       ]
      }
     ],
     "prompt_number": 25
    },
    {
     "cell_type": "code",
     "collapsed": false,
     "input": [
      "aligner = LatticeToStringWordAligner(src_lang, tgt_lang)\n",
      "\n",
      "for i in range(len(src_lines)):\n",
      "    aligner.add_bitext(src_lines[i], tgt_lines[i])"
     ],
     "language": "python",
     "metadata": {},
     "outputs": [],
     "prompt_number": 26
    },
    {
     "cell_type": "code",
     "collapsed": false,
     "input": [
      "aligner.src_data"
     ],
     "language": "python",
     "metadata": {},
     "outputs": [
      {
       "metadata": {},
       "output_type": "pyout",
       "prompt_number": 28,
       "text": [
        "[<StdVectorFst with 6 states>,\n",
        " <StdVectorFst with 58 states>,\n",
        " <StdVectorFst with 65 states>,\n",
        " <StdVectorFst with 30 states>,\n",
        " <StdVectorFst with 66 states>,\n",
        " <StdVectorFst with 21 states>,\n",
        " <StdVectorFst with 13 states>,\n",
        " <StdVectorFst with 25 states>,\n",
        " <StdVectorFst with 47 states>,\n",
        " <StdVectorFst with 39 states>]"
       ]
      }
     ],
     "prompt_number": 28
    },
    {
     "cell_type": "code",
     "collapsed": false,
     "input": [
      "aligner.dump_bitexts('sample')"
     ],
     "language": "python",
     "metadata": {},
     "outputs": [],
     "prompt_number": 32
    },
    {
     "cell_type": "code",
     "collapsed": false,
     "input": [],
     "language": "python",
     "metadata": {},
     "outputs": []
    }
   ],
   "metadata": {}
  }
 ]
}